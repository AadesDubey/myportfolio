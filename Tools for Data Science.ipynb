{
    "cells": [
        {
            "cell_type": "markdown",
            "metadata": {
                "collapsed": true
            },
            "source": "# My Jupyter Notebook on IBM Watson Studio"
        },
        {
            "cell_type": "markdown",
            "metadata": {},
            "source": "#### Aadesh Dubey\nData Scientist"
        },
        {
            "cell_type": "markdown",
            "metadata": {},
            "source": "##### I am interested in data science because Ilike exploring the thing and I am interested to know the meningful insights I can find behind the data."
        },
        {
            "cell_type": "markdown",
            "metadata": {},
            "source": "### The following code example would print the data type of x, what data type would that be?"
        },
        {
            "cell_type": "code",
            "execution_count": 18,
            "metadata": {},
            "outputs": [
                {
                    "name": "stdout",
                    "output_type": "stream",
                    "text": "<class 'int'>\n"
                }
            ],
            "source": "x = 5\nprint(type(x))"
        },
        {
            "cell_type": "markdown",
            "metadata": {},
            "source": "> This is blockquote IBM\n\n\n\n[links IBM](https://eu-gb.dataplatform.cloud.ibm.com/analytics/notebooks/v2/1f261b08-79aa-4c51-97d6-4f0906b95e94?projectid=2881e864-e099-4f22-8e4b-349159c371f4&context=cpdaas)\n\n\n\n![alt IBM](https://www.gannett-cdn.com/-mm-/526c32e3985b7d7a3a026753ab945435cbc0ceb5/c=0-38-768-472/local/-/media/USATODAY/test/2014/01/22/1390420312000-ibm-logo.jpg?width=3200&height=1680&fit=crop \"IBM LOGO\")"
        },
        {
            "cell_type": "code",
            "execution_count": null,
            "metadata": {},
            "outputs": [],
            "source": ""
        }
    ],
    "metadata": {
        "kernelspec": {
            "display_name": "Python 3.9",
            "language": "python",
            "name": "python3"
        },
        "language_info": {
            "codemirror_mode": {
                "name": "ipython",
                "version": 3
            },
            "file_extension": ".py",
            "mimetype": "text/x-python",
            "name": "python",
            "nbconvert_exporter": "python",
            "pygments_lexer": "ipython3",
            "version": "3.9.7"
        }
    },
    "nbformat": 4,
    "nbformat_minor": 1
}